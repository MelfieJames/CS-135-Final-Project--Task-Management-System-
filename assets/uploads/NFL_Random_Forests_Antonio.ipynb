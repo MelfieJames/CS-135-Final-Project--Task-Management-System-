{
  "nbformat": 4,
  "nbformat_minor": 0,
  "metadata": {
    "colab": {
      "provenance": []
    },
    "kernelspec": {
      "name": "python3",
      "display_name": "Python 3"
    },
    "language_info": {
      "name": "python"
    }
  },
  "cells": [
    {
      "cell_type": "markdown",
      "source": [
        "# Random Forests\n"
      ],
      "metadata": {
        "id": "r4hMS_0e86Lk"
      }
    },
    {
      "cell_type": "code",
      "execution_count": 9,
      "metadata": {
        "id": "YpIwzCQn29_A"
      },
      "outputs": [],
      "source": [
        "import pandas as pd\n",
        "from sklearn.metrics import mean_absolute_error\n",
        "from sklearn.tree import DecisionTreeRegressor\n",
        "from sklearn.model_selection import train_test_split\n",
        "\n",
        "# Load data\n",
        "file_path = '/content/drive/My Drive/CSV/NFL Play by Play 2009-2016 (v3).csv'\n",
        "nfl_data = pd.read_csv(file_path, low_memory=False)\n",
        "\n",
        "# Filter rows with missing values in target or feature columns only\n",
        "required_columns = ['Yards.Gained', 'yrdln', 'yrdline100', 'TimeUnder', 'Drive', 'qtr', 'posteam_timeouts_pre']\n",
        "filtered_nfl_data = nfl_data.dropna(subset=required_columns)\n",
        "\n",
        "# Choose target and features\n",
        "y = filtered_nfl_data['Yards.Gained']\n",
        "\n",
        "nfl_features = ['yrdln', 'yrdline100', 'TimeUnder', 'Drive', 'qtr', 'posteam_timeouts_pre']\n",
        "\n",
        "X = filtered_nfl_data[nfl_features]\n",
        "\n",
        "# split data into training and validation data, for both features and target\n",
        "train_X, val_X, train_y, val_y = train_test_split(X, y, random_state=0)\n"
      ]
    },
    {
      "cell_type": "code",
      "source": [
        "from sklearn.metrics import mean_absolute_error\n",
        "from sklearn.ensemble import RandomForestRegressor\n",
        "\n",
        "forest_model = RandomForestRegressor(random_state=1)\n",
        "forest_model.fit(train_X, train_y)\n",
        "nfl_preds = forest_model.predict(val_X)\n",
        "print(mean_absolute_error(val_y, nfl_preds))"
      ],
      "metadata": {
        "colab": {
          "base_uri": "https://localhost:8080/"
        },
        "id": "6IObqpKW74XX",
        "outputId": "9a672d8e-73c4-4508-ed73-a795a0d4386b"
      },
      "execution_count": 10,
      "outputs": [
        {
          "output_type": "stream",
          "name": "stdout",
          "text": [
            "6.3375825983462315\n"
          ]
        }
      ]
    }
  ]
}