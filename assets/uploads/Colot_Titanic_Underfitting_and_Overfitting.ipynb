{
  "nbformat": 4,
  "nbformat_minor": 0,
  "metadata": {
    "colab": {
      "provenance": []
    },
    "kernelspec": {
      "name": "python3",
      "display_name": "Python 3"
    },
    "language_info": {
      "name": "python"
    }
  },
  "cells": [
    {
      "cell_type": "code",
      "execution_count": null,
      "metadata": {
        "colab": {
          "base_uri": "https://localhost:8080/"
        },
        "id": "3zjBrnd0cNA-",
        "outputId": "9e164176-c498-4f6b-f9e6-1ac00e16d68c"
      },
      "outputs": [
        {
          "output_type": "stream",
          "name": "stdout",
          "text": [
            "Max leaf nodes: 5  \t\t Mean Absolute Error:  0\n",
            "Max leaf nodes: 50  \t\t Mean Absolute Error:  0\n",
            "Max leaf nodes: 500  \t\t Mean Absolute Error:  0\n",
            "Max leaf nodes: 5000  \t\t Mean Absolute Error:  0\n"
          ]
        }
      ],
      "source": [
        "import pandas as pd\n",
        "from sklearn.metrics import mean_absolute_error\n",
        "from sklearn.tree import DecisionTreeRegressor\n",
        "from sklearn.model_selection import train_test_split\n",
        "\n",
        "def get_mae(max_leaf_nodes, train_X, val_X, train_y, val_y):\n",
        "    model = DecisionTreeRegressor(max_leaf_nodes=max_leaf_nodes, random_state=0)\n",
        "    model.fit(train_X, train_y)\n",
        "    preds_val = model.predict(val_X)\n",
        "    mae = mean_absolute_error(val_y, preds_val)\n",
        "    return(mae)\n",
        "\n",
        "\n",
        "# Load data\n",
        "titanic_data = pd.read_csv('/content/drive/MyDrive/titanic - titanic.csv')\n",
        "\n",
        "# Filter rows with missing price values\n",
        "filtered_titanic_data = titanic_data.dropna(axis=0)\n",
        "\n",
        "# Choose target and features\n",
        "y = filtered_titanic_data.Survived\n",
        "\n",
        "titanic_features = ['Pclass', 'Age', 'Fare']\n",
        "\n",
        "X = filtered_titanic_data[titanic_features]\n",
        "\n",
        "# split data into training and validation data, for both features and target\n",
        "train_X, val_X, train_y, val_y = train_test_split(X, y,random_state = 0)\n",
        "\n",
        "# compare MAE with differing values of max_leaf_nodes\n",
        "for max_leaf_nodes in [5, 50, 500, 5000]:\n",
        "    my_mae = get_mae(max_leaf_nodes, train_X, val_X, train_y, val_y)\n",
        "    print(\"Max leaf nodes: %d  \\t\\t Mean Absolute Error:  %d\" %(max_leaf_nodes, my_mae))"
      ]
    }
  ]
}