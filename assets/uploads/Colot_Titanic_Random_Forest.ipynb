{
  "nbformat": 4,
  "nbformat_minor": 0,
  "metadata": {
    "colab": {
      "provenance": []
    },
    "kernelspec": {
      "name": "python3",
      "display_name": "Python 3"
    },
    "language_info": {
      "name": "python"
    }
  },
  "cells": [
    {
      "cell_type": "code",
      "execution_count": null,
      "metadata": {
        "id": "ZBTkojAjeEXg"
      },
      "outputs": [],
      "source": [
        "import pandas as pd\n",
        "from sklearn.metrics import mean_absolute_error\n",
        "from sklearn.tree import DecisionTreeRegressor\n",
        "from sklearn.model_selection import train_test_split\n",
        "\n",
        "# Load data\n",
        "titanic_data = pd.read_csv('/content/drive/MyDrive/titanic - titanic.csv')\n",
        "\n",
        "# Filter rows with missing price values\n",
        "filtered_titanic_data = titanic_data.dropna(axis=0)\n",
        "\n",
        "# Choose target and features\n",
        "y = filtered_titanic_data.Survived\n",
        "\n",
        "titanic_features = ['Pclass', 'Age', 'Fare']\n",
        "\n",
        "X = filtered_titanic_data[titanic_features]\n",
        "\n",
        "# split data into training and validation data, for both features and target\n",
        "train_X, val_X, train_y, val_y = train_test_split(X, y,random_state = 0)"
      ]
    },
    {
      "cell_type": "code",
      "source": [
        "from sklearn.ensemble import RandomForestRegressor\n",
        "from sklearn.metrics import mean_absolute_error\n",
        "\n",
        "forest_model = RandomForestRegressor(random_state=1)\n",
        "forest_model.fit(train_X, train_y)\n",
        "titanic_preds = forest_model.predict(val_X)\n",
        "print(mean_absolute_error(val_y, titanic_preds))"
      ],
      "metadata": {
        "colab": {
          "base_uri": "https://localhost:8080/"
        },
        "id": "T0-GeKH75i--",
        "outputId": "19cf0df3-7a08-4613-a60d-a9066695b199"
      },
      "execution_count": null,
      "outputs": [
        {
          "output_type": "stream",
          "name": "stdout",
          "text": [
            "0.348695652173913\n"
          ]
        }
      ]
    }
  ]
}